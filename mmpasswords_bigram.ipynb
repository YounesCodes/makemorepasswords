{
 "cells": [
  {
   "cell_type": "code",
   "execution_count": 41,
   "id": "63ad19d3-0ef6-4c68-9d04-bfa56afd4e1c",
   "metadata": {},
   "outputs": [],
   "source": [
    "import torch"
   ]
  },
  {
   "cell_type": "code",
   "execution_count": 42,
   "id": "21e55125-4a80-4da5-ac2b-278753f7203a",
   "metadata": {},
   "outputs": [],
   "source": [
    "passwords = open('rockyou.txt', 'r',encoding='latin1').read().splitlines()"
   ]
  },
  {
   "cell_type": "code",
   "execution_count": 43,
   "id": "47a93c81-c9a7-4306-ac48-5fbcb212b93c",
   "metadata": {},
   "outputs": [
    {
     "data": {
      "text/plain": [
       "['trustno1',\n",
       " 'sexylady',\n",
       " '14344',\n",
       " 'autumn',\n",
       " 'mendoza',\n",
       " 'animals',\n",
       " 'perfect',\n",
       " 'mariel',\n",
       " 'bullshit',\n",
       " 'bitches']"
      ]
     },
     "execution_count": 43,
     "metadata": {},
     "output_type": "execute_result"
    }
   ],
   "source": [
    "passwords[1000:1010] # some nice passwords lol"
   ]
  },
  {
   "cell_type": "code",
   "execution_count": 44,
   "id": "87fa5757-dd56-4d5b-a521-ee19eb4af8ac",
   "metadata": {},
   "outputs": [
    {
     "data": {
      "text/plain": [
       "14346469"
      ]
     },
     "execution_count": 44,
     "metadata": {},
     "output_type": "execute_result"
    }
   ],
   "source": [
    "len(passwords)"
   ]
  },
  {
   "cell_type": "code",
   "execution_count": 45,
   "id": "091ebce1-8ba5-45c4-8058-f6c65fb30a96",
   "metadata": {},
   "outputs": [],
   "source": [
    "# some cleaning, filtering out unusual, rare and special characters, also capital letters for simplification\n",
    "allowed = set(\"abcdefghijklmnopqrstuvwxyz0123456789\")\n",
    "filtered_passwords = []\n",
    "for p in passwords:\n",
    "    if all(char in allowed for char in p):\n",
    "        filtered_passwords.append(p)"
   ]
  },
  {
   "cell_type": "code",
   "execution_count": 46,
   "id": "684f787e-8c5d-4528-8e84-66b14820ee76",
   "metadata": {},
   "outputs": [
    {
     "data": {
      "text/plain": [
       "12147978"
      ]
     },
     "execution_count": 46,
     "metadata": {},
     "output_type": "execute_result"
    }
   ],
   "source": [
    "len(filtered_passwords)"
   ]
  },
  {
   "cell_type": "code",
   "execution_count": 47,
   "id": "af2a2844-7022-42e8-b1e9-09648cf7bbcc",
   "metadata": {},
   "outputs": [
    {
     "data": {
      "text/plain": [
       "{'0': 1,\n",
       " '1': 2,\n",
       " '2': 3,\n",
       " '3': 4,\n",
       " '4': 5,\n",
       " '5': 6,\n",
       " '6': 7,\n",
       " '7': 8,\n",
       " '8': 9,\n",
       " '9': 10,\n",
       " 'a': 11,\n",
       " 'b': 12,\n",
       " 'c': 13,\n",
       " 'd': 14,\n",
       " 'e': 15,\n",
       " 'f': 16,\n",
       " 'g': 17,\n",
       " 'h': 18,\n",
       " 'i': 19,\n",
       " 'j': 20,\n",
       " 'k': 21,\n",
       " 'l': 22,\n",
       " 'm': 23,\n",
       " 'n': 24,\n",
       " 'o': 25,\n",
       " 'p': 26,\n",
       " 'q': 27,\n",
       " 'r': 28,\n",
       " 's': 29,\n",
       " 't': 30,\n",
       " 'u': 31,\n",
       " 'v': 32,\n",
       " 'w': 33,\n",
       " 'x': 34,\n",
       " 'y': 35,\n",
       " 'z': 36,\n",
       " '<s>': 0,\n",
       " '</s>': 37}"
      ]
     },
     "execution_count": 47,
     "metadata": {},
     "output_type": "execute_result"
    }
   ],
   "source": [
    "chars = sorted(list(set(''.join(filtered_passwords))))\n",
    "stoi = {s:i+1 for i,s in enumerate(chars)}\n",
    "stoi['<s>'] = 0\n",
    "stoi['</s>'] = len(stoi)\n",
    "itos = {i: ch for ch, i in stoi.items()}\n",
    "stoi"
   ]
  },
  {
   "cell_type": "code",
   "execution_count": 63,
   "id": "2c399ccb-e129-4965-b961-a1f03bebcdd9",
   "metadata": {},
   "outputs": [],
   "source": [
    "# creating training set\n",
    "X_train = []\n",
    "y_train = []\n",
    "\n",
    "for p in filtered_passwords[:500000]: # training with part of dataset to avoid memory allocation issues \n",
    "  chs = ['<s>'] + list(p) + ['</s>'] # <s> and </s> are respectively special start/end indicators\n",
    "  for ch1, ch2 in zip(chs, chs[1:]):\n",
    "    ix1 = stoi[ch1]\n",
    "    ix2 = stoi[ch2]\n",
    "    X_train.append(ix1)\n",
    "    y_train.append(ix2)\n",
    "    \n",
    "X_train = torch.tensor(X_train)\n",
    "y_train = torch.tensor(y_train)\n"
   ]
  },
  {
   "cell_type": "code",
   "execution_count": 64,
   "id": "f6c977b0-5b0a-42b1-b77e-982ebdc6e1aa",
   "metadata": {},
   "outputs": [
    {
     "data": {
      "text/plain": [
       "tensor([ 0,  2,  3,  ..., 25, 24, 11])"
      ]
     },
     "execution_count": 64,
     "metadata": {},
     "output_type": "execute_result"
    }
   ],
   "source": [
    "X_train"
   ]
  },
  {
   "cell_type": "code",
   "execution_count": 65,
   "id": "ed91d733-a2bd-4a93-a256-bdf1631974d8",
   "metadata": {},
   "outputs": [
    {
     "data": {
      "text/plain": [
       "tensor([ 2,  3,  4,  ..., 24, 11, 37])"
      ]
     },
     "execution_count": 65,
     "metadata": {},
     "output_type": "execute_result"
    }
   ],
   "source": [
    "y_train"
   ]
  },
  {
   "cell_type": "code",
   "execution_count": 66,
   "id": "03b4daa7-f8a2-44c4-a86a-325b3c9d9682",
   "metadata": {},
   "outputs": [],
   "source": [
    "# to train NN, lets try batch processing\n",
    "# initialize NN weights randomly\n",
    "W = torch.randn((38,38),requires_grad=True)"
   ]
  },
  {
   "cell_type": "code",
   "execution_count": 69,
   "id": "f57ea9a0-aa52-4cb5-a502-900b9d13d0ee",
   "metadata": {},
   "outputs": [
    {
     "name": "stdout",
     "output_type": "stream",
     "text": [
      "Iteration 0, Average Loss: 2.7854925304969433\n",
      "Iteration 5, Average Loss: 2.786347840038766\n",
      "Iteration 10, Average Loss: 2.786347845129554\n",
      "Iteration 15, Average Loss: 2.7863478473921264\n",
      "Iteration 20, Average Loss: 2.7863478465436615\n",
      "Iteration 25, Average Loss: 2.7863478389074796\n",
      "Iteration 30, Average Loss: 2.7863478479577695\n",
      "Iteration 35, Average Loss: 2.7863478448467323\n",
      "Iteration 40, Average Loss: 2.786347840038766\n",
      "Iteration 45, Average Loss: 2.7863478473921264\n",
      "Iteration 50, Average Loss: 2.7863478465436615\n",
      "Iteration 55, Average Loss: 2.7863478389074796\n",
      "Iteration 60, Average Loss: 2.7863478479577695\n",
      "Iteration 65, Average Loss: 2.7863478448467323\n",
      "Iteration 70, Average Loss: 2.786347840038766\n",
      "Iteration 75, Average Loss: 2.7863478473921264\n",
      "Iteration 80, Average Loss: 2.7863478465436615\n",
      "Iteration 85, Average Loss: 2.7863478389074796\n",
      "Iteration 90, Average Loss: 2.7863478479577695\n",
      "Iteration 95, Average Loss: 2.7863478448467323\n"
     ]
    }
   ],
   "source": [
    "import torch.nn.functional as F\n",
    "batch_size = 5000  \n",
    "n_batches = len(X_train) // batch_size\n",
    "\n",
    "losses = []\n",
    "for k in range(100):  # training iterations\n",
    "    total_loss = 0\n",
    "    for i in range(n_batches):\n",
    "        # get batch\n",
    "        start_idx = i * batch_size\n",
    "        end_idx = start_idx + batch_size\n",
    "        X_batch = X_train[start_idx:end_idx]\n",
    "        y_batch = y_train[start_idx:end_idx]\n",
    "        \n",
    "        # one hot encoding the input batch to the neural network\n",
    "        X_enc = F.one_hot(X_batch, num_classes=38).float()\n",
    "        \n",
    "        # forward pass\n",
    "        logits = X_enc @ W\n",
    "        counts = logits.exp()\n",
    "        probs = counts / counts.sum(1, keepdims=True)\n",
    "        loss = -probs[torch.arange(batch_size), y_batch].log().mean() + 0.01*(W**2).mean()\n",
    "        \n",
    "        # backward pass\n",
    "        W.grad = None\n",
    "        loss.backward()\n",
    "        \n",
    "        # update\n",
    "        W.data += -50 * W.grad\n",
    "        total_loss += loss.item()\n",
    "    \n",
    "    if k % 5 == 0:\n",
    "        print(f'Iteration {k}, Average Loss: {total_loss/n_batches}')\n",
    "        "
   ]
  },
  {
   "cell_type": "code",
   "execution_count": 68,
   "id": "fcf716e6-f22e-4eed-a1b1-4acef3a670db",
   "metadata": {},
   "outputs": [
    {
     "name": "stdout",
     "output_type": "stream",
     "text": [
      "ble1\n",
      "bly1\n",
      "banannkembelares\n",
      "be14jetilaniton\n",
      "buvy\n",
      "buvelaneri3\n",
      "bonk\n",
      "betodlbesakl\n",
      "belyraincast\n",
      "blmowiqugtcasheteng2\n"
     ]
    }
   ],
   "source": [
    "# fun part :D\n",
    "for i in range(10): # range is number of passwords sampled from NN\n",
    "  \n",
    "  out = []\n",
    "  ix = 0\n",
    "  while True:\n",
    "    xenc = F.one_hot(torch.tensor([ix]), num_classes=38).float()\n",
    "    logits = xenc @ W\n",
    "    counts = logits.exp() \n",
    "    p = counts / counts.sum(1, keepdims = True) # probabilities for next character\n",
    "    # ----------\n",
    "    \n",
    "    ix = torch.multinomial(p, num_samples=1, replacement=True).item()\n",
    "    out.append(itos[ix])\n",
    "    if ix == len(itos)-1:\n",
    "      break\n",
    "  print(''.join(out[:len(out)-1]))"
   ]
  },
  {
   "cell_type": "code",
   "execution_count": null,
   "id": "3d6d7bc5-3af7-435c-918c-e5fafc1a206c",
   "metadata": {},
   "outputs": [],
   "source": []
  }
 ],
 "metadata": {
  "kernelspec": {
   "display_name": "Python 3 (ipykernel)",
   "language": "python",
   "name": "python3"
  },
  "language_info": {
   "codemirror_mode": {
    "name": "ipython",
    "version": 3
   },
   "file_extension": ".py",
   "mimetype": "text/x-python",
   "name": "python",
   "nbconvert_exporter": "python",
   "pygments_lexer": "ipython3",
   "version": "3.10.14"
  }
 },
 "nbformat": 4,
 "nbformat_minor": 5
}
